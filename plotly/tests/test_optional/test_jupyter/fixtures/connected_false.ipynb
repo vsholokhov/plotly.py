{
 "cells": [
  {
   "cell_type": "code",
   "execution_count": null,
   "metadata": {
    "collapsed": false
   },
   "outputs": [],
   "source": [
    "from plotly.offline import plot, iplot, init_notebook_mode\n",
    "import plotly.graph_objs as go\n",
    "\n",
    "# Make plotly work with Jupyter notebook\n",
    "init_notebook_mode()\n",
    "\n",
    "keys=['one','two','three']\n",
    "values=[1,2,3]\n",
    "\n",
    "iplot({\n",
    "    \"data\": [go.Bar(x=keys, y=values)],\n",
    "    \"layout\": go.Layout(title=\"Sample Bar Chart\")\n",
    "})"
   ]
  },
  {
   "cell_type": "code",
   "execution_count": null,
   "metadata": {
    "collapsed": true
   },
   "outputs": [],
   "source": []
  }
 ],
 "metadata": {
  "kernelspec": {
   "display_name": "Python 3",
   "language": "python",
   "name": "python3"
  },
  "language_info": {
   "codemirror_mode": {
    "name": "ipython",
    "version": 3
   },
   "file_extension": ".py",
   "mimetype": "text/x-python",
   "name": "python",
   "nbconvert_exporter": "python",
   "pygments_lexer": "ipython3",
   "version": "3.5.2"
  }
 },
 "nbformat": 4,
 "nbformat_minor": 1
}
